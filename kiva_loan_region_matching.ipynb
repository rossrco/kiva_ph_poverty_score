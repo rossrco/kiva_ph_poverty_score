{
 "cells": [
  {
   "cell_type": "markdown",
   "metadata": {
    "_uuid": "59c702df7bda93f427e4f2938e666957faef5d1e"
   },
   "source": [
    "# Introduction\n",
    "\n",
    "Hi Kagglers,\n",
    "\n",
    "This is a supplementary notebook to the Kiva Data Science for Good challenge. The results of this notebook are used in the [Kiva Philippines Poverty Score notebook](https://www.kaggle.com/rossrco/kiva-philippines-poverty-score).\n",
    "\n",
    "In this notebook, we'll match the region from the `kiva_loans.csv` dataset to a region in the Philippines.\n",
    "\n",
    "# Data Transformation Description\n",
    "\n",
    "The `kiva_loans.csv` dataset contains a `region` column. The data in this column represents a written description of the borrower's location. The issue we are trying to solve here is that:\n",
    "\n",
    "* Sometimes the column represents the name of a city followed by the name of its corresponding province\n",
    "* Sometimes the column represents the name of a major city in the region and has no reference to the province\n",
    "* Sometimes the column represents the name of small cities or villages that are not administrative centers and are hard to locate\n",
    "\n",
    "From the onset, we'll tackle this challenge only for the Philippines region as it is the region of concern in the [main notebook](https://www.kaggle.com/rossrco/kiva-philippines-poverty-score). In light of this, it would be useful to mention the structure and hierarchy of the Filippino administrative regions:\n",
    "\n",
    "1. Island Group\n",
    "2. Region\n",
    "3. Province\n",
    "4. City\n",
    "\n",
    "In the most common case, the `region` column of the `kiva_loans.csv` dataset contains patterns of the type: 'city name, province'. In some rare cases the the `region` column contains patterns of the type: 'city name'. We'll use these patterns to match either the city or the province to a region. To do that, we'll utilize a small dataset of island groups, regions, provinces and cities based on [this wikipedia article](https://en.wikipedia.org/wiki/Administrative_divisions_of_the_Philippines).\n",
    "\n",
    "Finally, we should mention that through these heueristics, we managed to map 150 000 out of 160 000 loan locations. The rest 10 000 could be matched in the future through other methods (e.g. Google Maps API, etc.)."
   ]
  },
  {
   "cell_type": "code",
   "execution_count": 9,
   "metadata": {
    "_cell_guid": "b1076dfc-b9ad-4769-8c92-a6c4dae69d19",
    "_kg_hide-input": true,
    "_uuid": "8f2839f25d086af736a60e9eeb907d3b93b6e0e5",
    "collapsed": true
   },
   "outputs": [],
   "source": [
    "#numeric\n",
    "import numpy as np\n",
    "import pandas as pd\n",
    "\n",
    "#visualization\n",
    "import matplotlib.pyplot as plt\n",
    "import seaborn as sns\n",
    "import folium\n",
    "\n",
    "plt.style.use('bmh')\n",
    "%matplotlib inline\n",
    "\n",
    "#system\n",
    "import os\n",
    "import re\n",
    "\n",
    "#Pandas warnings\n",
    "import warnings\n",
    "warnings.filterwarnings('ignore')"
   ]
  },
  {
   "cell_type": "code",
   "execution_count": 10,
   "metadata": {
    "_cell_guid": "79c7e3d0-c299-4dcb-8224-4455121ee9b0",
    "_kg_hide-input": true,
    "_uuid": "d629ff2d2480ee46fbb7e2d37f6b5fab8052498a"
   },
   "outputs": [],
   "source": [
    "loans = pd.read_csv('kiva_loans.csv')\n",
    "phil_loans = loans[loans.country == 'Philippines']\n",
    "geonames_phil = pd.read_csv('ph_regions.csv')\n",
    "\n",
    "from difflib import get_close_matches\n",
    "\n",
    "def match_region(loc_string, match_entity = 'province', split = True):\n",
    "    if split == True:\n",
    "        region = loc_string.split(',')[-1]\n",
    "    else:\n",
    "        region = loc_string\n",
    "    \n",
    "    matches = get_close_matches(region, geonames_phil[match_entity].unique().tolist())\n",
    "    \n",
    "    if not matches:\n",
    "        return 'no_match'\n",
    "    else:\n",
    "        return geonames_phil.region[geonames_phil[match_entity] == matches[0]].iloc[0]\n",
    "    \n",
    "phil_loans.region.fillna('', inplace = True)\n",
    "phil_loans.rename(columns = {'region' : 'location'}, inplace = True)\n",
    "phil_loans['region'] = [match_region(loc_string) for loc_string in phil_loans.location]\n",
    "\n",
    "city_drop = re.compile(r'(.*)(city)', re.I)\n",
    "phil_loans.location[phil_loans.region == 'no_match'] = [re.match(city_drop, l).group(1).lower()\\\n",
    "                                                        if re.match(city_drop, l)\\\n",
    "                                                        else l for l\\\n",
    "                                                        in phil_loans.location[phil_loans.region == 'no_match']]\n",
    "\n",
    "phil_loans['region'][phil_loans.region == 'no_match'] = np.vectorize(match_region)(phil_loans['location'][phil_loans.region == 'no_match'], 'city', False)\n",
    "\n",
    "phil_loans.region[phil_loans.location == 'Sogod Cebu'] = geonames_phil.region[geonames_phil.city == 'cebu'].iloc[0]\n",
    "\n",
    "phil_loans_extract = phil_loans[(phil_loans.borrower_genders.notnull()) & (phil_loans.region != 'no_match')]\n",
    "\n",
    "phil_loans_extract['borrower_genders'] = phil_loans_extract['borrower_genders']\\\n",
    ".map({'female' : 1,\\\n",
    "      'male' : 0})\n",
    "\n",
    "phil_loans_extract.rename(columns = {'borrower_genders' : 'house_head_sex_f'}, inplace = True)\n"
   ]
  },
  {
   "cell_type": "code",
   "execution_count": 11,
   "metadata": {
    "_cell_guid": "46c61b8b-4d8e-4123-8a72-7a0541b767ff",
    "_kg_hide-input": true,
    "_uuid": "43fe4f91e143ff715308307246ab8a209cd12a91",
    "collapsed": true
   },
   "outputs": [],
   "source": [
    "phil_loans_extract.to_csv('kiva_loans_ph_transofrmed.csv')"
   ]
  }
 ],
 "metadata": {
  "kernelspec": {
   "display_name": "Python 3",
   "language": "python",
   "name": "python3"
  },
  "language_info": {
   "codemirror_mode": {
    "name": "ipython",
    "version": 3
   },
   "file_extension": ".py",
   "mimetype": "text/x-python",
   "name": "python",
   "nbconvert_exporter": "python",
   "pygments_lexer": "ipython3",
   "version": "3.6.3"
  }
 },
 "nbformat": 4,
 "nbformat_minor": 1
}
